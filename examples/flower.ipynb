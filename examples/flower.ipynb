{
 "cells": [
  {
   "cell_type": "markdown",
   "id": "085fb5a8-16ec-42d0-9fe4-ba3d947a6208",
   "metadata": {},
   "source": [
    "Draw a flower:"
   ]
  },
  {
   "cell_type": "code",
   "execution_count": null,
   "id": "6d367afa-971f-4d56-8db2-3ab5ed6158cb",
   "metadata": {},
   "outputs": [],
   "source": [
    "from iturtle import Turtle\n",
    "\n",
    "def petal(r, angle):\n",
    "    for i in range(2):\n",
    "        turtle.circle(r, angle)\n",
    "        turtle.left(180 - angle)\n",
    "\n",
    "def flower(n, r, angle):\n",
    "    for i in range(n):\n",
    "        petal(r, angle)\n",
    "        turtle.left(360.0/n)\n",
    "\n",
    "def move(length):\n",
    "    turtle.penup()\n",
    "    turtle.forward(length)\n",
    "    turtle.pendown()\n",
    "\n",
    "\n",
    "turtle = Turtle()\n",
    "turtle.speed(10)\n",
    "\n",
    "turtle.pencolor(\"red\")\n",
    "move(-150)\n",
    "flower(7, 60.0, 60.0)\n",
    "\n",
    "turtle.pencolor(\"limegreen\")\n",
    "move(150)\n",
    "flower(10, 40.0, 80.0)\n",
    "\n",
    "turtle.pencolor(\"blue\")\n",
    "move(150)\n",
    "flower(20, 140.0, 20.0)"
   ]
  }
 ],
 "metadata": {
  "kernelspec": {
   "display_name": "Python 3 (ipykernel)",
   "language": "python",
   "name": "python3"
  },
  "language_info": {
   "codemirror_mode": {
    "name": "ipython",
    "version": 3
   },
   "file_extension": ".py",
   "mimetype": "text/x-python",
   "name": "python",
   "nbconvert_exporter": "python",
   "pygments_lexer": "ipython3",
   "version": "3.11.0"
  },
  "widgets": {
   "application/vnd.jupyter.widget-state+json": {
    "state": {},
    "version_major": 2,
    "version_minor": 0
   }
  }
 },
 "nbformat": 4,
 "nbformat_minor": 5
}
