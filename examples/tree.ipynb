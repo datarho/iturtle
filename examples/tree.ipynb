{
 "cells": [
  {
   "cell_type": "markdown",
   "id": "7a94a06b-c907-4ed7-8651-b4ebb2b0b553",
   "metadata": {},
   "source": [
    "Draw a tree in a recursive manner:"
   ]
  },
  {
   "cell_type": "code",
   "execution_count": null,
   "id": "4cf92f40-0d42-4a69-a0f9-80be74abc279",
   "metadata": {},
   "outputs": [],
   "source": [
    "from iturtle import Turtle\n",
    "\n",
    "turtle = Turtle()\n",
    "turtle.pencolor(\"gold\")\n",
    "\n",
    "turtle.speed(10)\n",
    "\n",
    "turtle.left(90)\n",
    "turtle.penup()\n",
    "turtle.backward(200)\n",
    "turtle.pendown()\n",
    "\n",
    "angle = 30\n",
    "\n",
    "def branch(sz, level):\n",
    "    if level > 0:\n",
    "        turtle.pencolor(0, 255 // level, 0)\n",
    "\n",
    "        turtle.forward(int(sz))\n",
    "        turtle.right(angle)\n",
    "\n",
    "        branch(0.8 * sz, level - 1)\n",
    "\n",
    "        turtle.pencolor((0, 255 // level, 0))\n",
    "        turtle.left(2 * angle)\n",
    "\n",
    "        branch(int(0.8 * sz), level - 1)\n",
    "\n",
    "        turtle.pencolor(0, 255 // level, 0)\n",
    "\n",
    "        turtle.right(angle)\n",
    "        turtle.backward(int(sz))\n",
    "\n",
    "branch(80, 4)"
   ]
  }
 ],
 "metadata": {
  "kernelspec": {
   "display_name": "Python 3 (ipykernel)",
   "language": "python",
   "name": "python3"
  },
  "language_info": {
   "codemirror_mode": {
    "name": "ipython",
    "version": 3
   },
   "file_extension": ".py",
   "mimetype": "text/x-python",
   "name": "python",
   "nbconvert_exporter": "python",
   "pygments_lexer": "ipython3",
   "version": "3.11.3"
  },
  "widgets": {
   "application/vnd.jupyter.widget-state+json": {
    "state": {
     "35c588a639e342e5b770b757e8fa6c6b": {
      "model_module": "iturtle",
      "model_module_version": "^0.1.0",
      "model_name": "TurtleModel",
      "state": {
       "_model_module_version": "^0.1.0",
       "_view_module_version": "^0.1.0",
       "background": "white",
       "bgUrl": "",
       "delay": 2,
       "height": 500,
       "id": "8ad87fc8-06c6-45b0-a025-a08ef1c33b42",
       "key": "",
       "layout": "IPY_MODEL_4cb6d08f503c42c88ab104198550bcd8",
       "resource": {},
       "width": 800
      }
     },
     "4cb6d08f503c42c88ab104198550bcd8": {
      "model_module": "@jupyter-widgets/base",
      "model_module_version": "2.0.0",
      "model_name": "LayoutModel",
      "state": {}
     },
     "d86c850eb0e14db5aaea15961406f441": {
      "model_module": "iturtle",
      "model_module_version": "^0.1.0",
      "model_name": "TurtleModel",
      "state": {
       "_model_module_version": "^0.1.0",
       "_view_module_version": "^0.1.0",
       "background": "white",
       "bgUrl": "",
       "delay": 2,
       "height": 500,
       "id": "e327cdf5-7007-43da-8034-dd0c4fecdb9e",
       "key": "",
       "layout": "IPY_MODEL_f5815635d1204a1782e7153a56b3a1d2",
       "resource": {},
       "width": 800
      }
     },
     "f5815635d1204a1782e7153a56b3a1d2": {
      "model_module": "@jupyter-widgets/base",
      "model_module_version": "2.0.0",
      "model_name": "LayoutModel",
      "state": {}
     }
    },
    "version_major": 2,
    "version_minor": 0
   }
  }
 },
 "nbformat": 4,
 "nbformat_minor": 5
}
