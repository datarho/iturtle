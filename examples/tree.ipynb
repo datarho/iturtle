{
 "cells": [
  {
   "cell_type": "markdown",
   "id": "7a94a06b-c907-4ed7-8651-b4ebb2b0b553",
   "metadata": {},
   "source": [
    "Draw a tree in a recursive manner:"
   ]
  },
  {
   "cell_type": "code",
   "execution_count": null,
   "id": "4cf92f40-0d42-4a69-a0f9-80be74abc279",
   "metadata": {},
   "outputs": [],
   "source": [
    "from iturtle import Turtle\n",
    "\n",
    "turtle = Turtle()\n",
    "turtle.pencolor(\"gold\")\n",
    "\n",
    "turtle.speed(10)\n",
    "\n",
    "turtle.left(90)\n",
    "turtle.penup()\n",
    "turtle.backward(200)\n",
    "turtle.pendown()\n",
    "\n",
    "angle = 30\n",
    "\n",
    "def branch(sz, level):\n",
    "    if level > 0:\n",
    "        turtle.pencolor(0, 255 // level, 0)\n",
    "\n",
    "        turtle.forward(int(sz))\n",
    "        turtle.right(angle)\n",
    "\n",
    "        branch(0.8 * sz, level - 1)\n",
    "\n",
    "        turtle.pencolor((0, 255 // level, 0))\n",
    "        turtle.left(2 * angle)\n",
    "\n",
    "        branch(int(0.8 * sz), level - 1)\n",
    "\n",
    "        turtle.pencolor(0, 255 // level, 0)\n",
    "\n",
    "        turtle.right(angle)\n",
    "        turtle.backward(int(sz))\n",
    "\n",
    "branch(80, 4)"
   ]
  }
 ],
 "metadata": {
  "kernelspec": {
   "display_name": "Python 3 (ipykernel)",
   "language": "python",
   "name": "python3"
  },
  "language_info": {
   "codemirror_mode": {
    "name": "ipython",
    "version": 3
   },
   "file_extension": ".py",
   "mimetype": "text/x-python",
   "name": "python",
   "nbconvert_exporter": "python",
   "pygments_lexer": "ipython3",
   "version": "3.11.0"
  },
  "widgets": {
   "application/vnd.jupyter.widget-state+json": {
    "state": {},
    "version_major": 2,
    "version_minor": 0
   }
  }
 },
 "nbformat": 4,
 "nbformat_minor": 5
}
