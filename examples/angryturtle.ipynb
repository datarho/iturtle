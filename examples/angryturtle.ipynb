{
 "cells": [
  {
   "cell_type": "markdown",
   "id": "9e8ec884-316a-46ea-8671-fb16120c36cc",
   "metadata": {},
   "source": [
    "Try this angry bird demo:"
   ]
  },
  {
   "cell_type": "code",
   "execution_count": null,
   "id": "85916998-e4c6-46da-9abe-f8fddaa87155",
   "metadata": {
    "tags": []
   },
   "outputs": [],
   "source": [
    "from iturtle import Screen, Turtle\n",
    "from tkinter import PhotoImage\n",
    "from math import sin, cos, radians\n",
    "\n",
    "def launch(a=20):\n",
    "    v = 80\n",
    "    r = radians(a)\n",
    "    vx = v * cos(r)\n",
    "    vy = v * sin(r)\n",
    "    x, y = -300, -200\n",
    "    leo.teleport(x, y)\n",
    "    leo.st()\n",
    "    dt = 0.1\n",
    "    for i in range(200):\n",
    "        vy += -9.8 * dt\n",
    "        x += vx * dt\n",
    "        y += vy * dt\n",
    "        if y <= -200:\n",
    "            break\n",
    "        leo.goto(x, y)\n",
    "\n",
    "\n",
    "screen = Screen()\n",
    "screen.bgpic('./angryturtle/grassfield.jpg')\n",
    "\n",
    "leo = Turtle(screen)\n",
    "leo.ht()\n",
    "leo.shapesize(stretch_wid=0.2, stretch_len=0.2, outline=None)\n",
    "leo.shape('./angryturtle/bird.gif')\n",
    "leo.speed(5)\n",
    "\n",
    "launch(45)"
   ]
  }
 ],
 "metadata": {
  "kernelspec": {
   "display_name": "Python 3 (ipykernel)",
   "language": "python",
   "name": "python3"
  },
  "language_info": {
   "codemirror_mode": {
    "name": "ipython",
    "version": 3
   },
   "file_extension": ".py",
   "mimetype": "text/x-python",
   "name": "python",
   "nbconvert_exporter": "python",
   "pygments_lexer": "ipython3",
   "version": "3.11.3"
  },
  "widgets": {
   "application/vnd.jupyter.widget-state+json": {
    "state": {
     "7e772d277d64448b942beb4d52765e50": {
      "model_module": "iturtle",
      "model_module_version": "^0.1.0",
      "model_name": "TurtleModel",
      "state": {
       "_model_module_version": "^0.1.0",
       "_view_module_version": "^0.1.0",
       "background": "white",
       "bgUrl": "./angryturtle/grassfield.jpg",
       "delay": 2,
       "height": 500,
       "id": "e81e278d-a8a5-414c-b93c-d0824f624860",
       "key": "",
       "layout": "IPY_MODEL_9b42f1245f734ba4a2996b493ed1e26e",
       "resource": {
        "buffer": "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",
        "ext": "gif",
        "name": "./angryturtle/bird.gif",
        "type": "image"
       },
       "width": 800
      }
     },
     "9b42f1245f734ba4a2996b493ed1e26e": {
      "model_module": "@jupyter-widgets/base",
      "model_module_version": "2.0.0",
      "model_name": "LayoutModel",
      "state": {}
     }
    },
    "version_major": 2,
    "version_minor": 0
   }
  }
 },
 "nbformat": 4,
 "nbformat_minor": 5
}
