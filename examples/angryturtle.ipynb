{
 "cells": [
  {
   "cell_type": "markdown",
   "id": "9e8ec884-316a-46ea-8671-fb16120c36cc",
   "metadata": {},
   "source": [
    "Try this angry bird demo:"
   ]
  },
  {
   "cell_type": "code",
   "execution_count": null,
   "id": "85916998-e4c6-46da-9abe-f8fddaa87155",
   "metadata": {
    "tags": []
   },
   "outputs": [],
   "source": [
    "from iturtle import Screen, Turtle\n",
    "from tkinter import PhotoImage\n",
    "from math import sin, cos, radians\n",
    "\n",
    "def launch(a=20):\n",
    "    v = 80\n",
    "    r = radians(a)\n",
    "    vx = v * cos(r)\n",
    "    vy = v * sin(r)\n",
    "    x, y = -300, -200\n",
    "    leo.teleport(x, y)\n",
    "    dt = 0.1\n",
    "    for i in range(200):\n",
    "        vy += -9.8 * dt\n",
    "        x += vx * dt\n",
    "        y += vy * dt\n",
    "        if y <= -200:\n",
    "            break\n",
    "        leo.goto(x, y)\n",
    "\n",
    "\n",
    "screen = Screen()\n",
    "screen.bgpic('https://svgshare.com/i/1Brq.svg')\n",
    "\n",
    "leo = Turtle(screen)\n",
    "leo.shape(\"https://svgshare.com/i/1Bse.svg\")\n",
    "\n",
    "launch(45)"
   ]
  }
 ],
 "metadata": {
  "kernelspec": {
   "display_name": "Python 3 (ipykernel)",
   "language": "python",
   "name": "python3"
  },
  "language_info": {
   "codemirror_mode": {
    "name": "ipython",
    "version": 3
   },
   "file_extension": ".py",
   "mimetype": "text/x-python",
   "name": "python",
   "nbconvert_exporter": "python",
   "pygments_lexer": "ipython3",
   "version": "3.11.3"
  }
 },
 "nbformat": 4,
 "nbformat_minor": 5
}
