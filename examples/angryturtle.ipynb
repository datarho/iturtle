{
 "cells": [
  {
   "cell_type": "code",
   "execution_count": 1,
   "id": "85916998-e4c6-46da-9abe-f8fddaa87155",
   "metadata": {
    "tags": []
   },
   "outputs": [
    {
     "data": {
      "application/vnd.jupyter.widget-view+json": {
       "model_id": "429d8558322c4d72a6bcf4e854ba9fa7",
       "version_major": 2,
       "version_minor": 0
      },
      "text/plain": [
       "Screen()"
      ]
     },
     "metadata": {},
     "output_type": "display_data"
    }
   ],
   "source": [
    "import numpy as np\n",
    "from iturtle import Screen, Turtle\n",
    "import threading\n",
    "import random\n",
    "\n",
    "length = 100\n",
    "num = 3 # number of turtle\n",
    "\n",
    "def get_random_color():\n",
    "    r = random.randint(0, 255)\n",
    "    g = random.randint(0, 255)\n",
    "    b = random.randint(0, 255)\n",
    "    return (r, g, b)\n",
    "\n",
    "def f(turtle, v0, angle):\n",
    "    g = 9.8\n",
    "    angle_rad = np.radians(angle)\n",
    "    t = np.linspace(0, 2 * v0 * np.sin(angle_rad) / g, length)\n",
    "    x = v0 * t * np.cos(angle_rad)\n",
    "    y = v0 * t * np.sin(angle_rad) - 0.5 * g * t**2\n",
    "    x -= 400\n",
    "    y -= 250\n",
    "    turtle.teleport(-400, -250)\n",
    "    for i in range(length):\n",
    "        turtle.setheading(turtle.towards(x[i], y[i]))\n",
    "        turtle.goto(x[i], y[i])\n",
    "\n",
    "screen = Screen()\n",
    "li = []\n",
    "\n",
    "for i in range(num):\n",
    "    tur = Turtle(screen)\n",
    "    tur.speed(10)\n",
    "    tur.pencolor(get_random_color())\n",
    "    t = threading.Thread(target=f, args=(tur, random.uniform(30, 90), random.uniform(45, 80)),)\n",
    "    t.start()\n",
    "    li.append(t)\n",
    "\n",
    "for i in li:\n",
    "    i.join()"
   ]
  },
  {
   "cell_type": "code",
   "execution_count": null,
   "id": "cb28d4cd-76c9-48a2-a130-d05d29425fae",
   "metadata": {},
   "outputs": [],
   "source": []
  }
 ],
 "metadata": {
  "kernelspec": {
   "display_name": "Python 3 (ipykernel)",
   "language": "python",
   "name": "python3"
  },
  "language_info": {
   "codemirror_mode": {
    "name": "ipython",
    "version": 3
   },
   "file_extension": ".py",
   "mimetype": "text/x-python",
   "name": "python",
   "nbconvert_exporter": "python",
   "pygments_lexer": "ipython3",
   "version": "3.8.18"
  }
 },
 "nbformat": 4,
 "nbformat_minor": 5
}
