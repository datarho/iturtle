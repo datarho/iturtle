{
 "cells": [
  {
   "cell_type": "code",
   "execution_count": 8,
   "id": "91b5afff-fc07-4d15-8c64-37b2aa391cc2",
   "metadata": {},
   "outputs": [
    {
     "data": {
      "application/vnd.jupyter.widget-view+json": {
       "model_id": "353f91045cd442cf82516f3397079f82",
       "version_major": 2,
       "version_minor": 0
      },
      "text/plain": [
       "Screen()"
      ]
     },
     "metadata": {},
     "output_type": "display_data"
    }
   ],
   "source": [
    "from iturtle import Turtle\n",
    "\n",
    "def click_callback(x,y):\n",
    "    turtle.goto(x,y)\n",
    "    \n",
    "turtle= Turtle()\n",
    "turtle.speed(1000)\n",
    "turtle.onclick(click_callback)\n",
    "\n",
    "\n"
   ]
  },
  {
   "cell_type": "code",
   "execution_count": null,
   "id": "41d06d2e-dd98-4710-b6ad-8cf315b30fe4",
   "metadata": {},
   "outputs": [],
   "source": []
  }
 ],
 "metadata": {
  "kernelspec": {
   "display_name": "Python 3 (ipykernel)",
   "language": "python",
   "name": "python3"
  },
  "language_info": {
   "codemirror_mode": {
    "name": "ipython",
    "version": 3
   },
   "file_extension": ".py",
   "mimetype": "text/x-python",
   "name": "python",
   "nbconvert_exporter": "python",
   "pygments_lexer": "ipython3",
   "version": "3.8.18"
  }
 },
 "nbformat": 4,
 "nbformat_minor": 5
}
