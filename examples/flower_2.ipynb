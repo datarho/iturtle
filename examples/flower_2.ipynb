{
 "cells": [
  {
   "cell_type": "code",
   "execution_count": null,
   "id": "3565f5e7-68e2-44ca-bf4d-56388e34583f",
   "metadata": {},
   "outputs": [],
   "source": [
    "# circle画不出来\n",
    "from iturtle import Screen, Turtle\n",
    "import colorsys as cs\n",
    "\n",
    "screen = Screen()\n",
    "screen.setup(800,800)\n",
    "screen.bgcolor('black')\n",
    "\n",
    "turtle = Turtle(screen)\n",
    "turtle.speed(0)\n",
    "turtle.width(2)\n",
    " \n",
    "for j in range(25):\n",
    "    for i in range(15):\n",
    "        turtle.color(cs.hsv_to_rgb(1/25,j/25,1))\n",
    "        turtle.right(90)\n",
    "        turtle.circle(200-j*4, 90)\n",
    "        turtle.left(90)\n",
    "        turtle.circle(200-j*4,90)\n",
    "        turtle.right(180)\n",
    "        turtle.circle(50,24)\n",
    "        \n",
    "turtle.hideturtle()"
   ]
  }
 ],
 "metadata": {
  "kernelspec": {
   "display_name": "Python 3 (ipykernel)",
   "language": "python",
   "name": "python3"
  },
  "language_info": {
   "codemirror_mode": {
    "name": "ipython",
    "version": 3
   },
   "file_extension": ".py",
   "mimetype": "text/x-python",
   "name": "python",
   "nbconvert_exporter": "python",
   "pygments_lexer": "ipython3",
   "version": "3.11.3"
  },
  "widgets": {
   "application/vnd.jupyter.widget-state+json": {
    "state": {},
    "version_major": 2,
    "version_minor": 0
   }
  }
 },
 "nbformat": 4,
 "nbformat_minor": 5
}
