{
 "cells": [
  {
   "cell_type": "code",
   "execution_count": null,
   "id": "9c96275e-5bb2-4b83-aab4-2585903e27f3",
   "metadata": {},
   "outputs": [],
   "source": [
    "from iturtle import Screen, Turtle\n",
    "import colorsys\n",
    "\n",
    "screen = Screen()\n",
    "screen.setup(1200, 800)\n",
    "screen.bgcolor('black')\n",
    "\n",
    "turtle = Turtle(screen)\n",
    "turtle.speed(0)\n",
    "turtle.width(2)\n",
    "\n",
    "h=0.001\n",
    "for i in range(360):\n",
    "    turtle.color(colorsys.hsv_to_rgb(h,1,1))\n",
    "    turtle.forward(100)\n",
    "    turtle.left(60)\n",
    "    turtle.forward(100)\n",
    "    turtle.right(120)\n",
    "    turtle.circle(50)\n",
    "    turtle.left(240)\n",
    "    turtle.forward(100)\n",
    "    turtle.left(60)\n",
    "    turtle.forward(100)\n",
    "    h+=0.02\n",
    "    turtle.color(colorsys.hsv_to_rgb(h,1,1))\n",
    "    turtle.forward(100)\n",
    "    turtle.right(60)\n",
    "    turtle.forward(100)\n",
    "    turtle.right(60)\n",
    "    turtle.forward(100)\n",
    "    turtle.left(120)\n",
    "    turtle.circle(-50)\n",
    "    turtle.right(240)\n",
    "    turtle.forward(100)\n",
    "    turtle.right(60)\n",
    "    turtle.forward(100)\n",
    "    turtle.left(2)\n",
    "    h+=0.02"
   ]
  }
 ],
 "metadata": {
  "kernelspec": {
   "display_name": "Python 3 (ipykernel)",
   "language": "python",
   "name": "python3"
  },
  "language_info": {
   "codemirror_mode": {
    "name": "ipython",
    "version": 3
   },
   "file_extension": ".py",
   "mimetype": "text/x-python",
   "name": "python",
   "nbconvert_exporter": "python",
   "pygments_lexer": "ipython3",
   "version": "3.11.3"
  },
  "widgets": {
   "application/vnd.jupyter.widget-state+json": {
    "state": {},
    "version_major": 2,
    "version_minor": 0
   }
  }
 },
 "nbformat": 4,
 "nbformat_minor": 5
}
