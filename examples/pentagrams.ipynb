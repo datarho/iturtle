{
 "cells": [
  {
   "cell_type": "code",
   "execution_count": null,
   "id": "13a5ccf7-7706-43b8-8ebc-c7ab3e9b738e",
   "metadata": {},
   "outputs": [],
   "source": [
    "from iturtle import Screen, Turtle\n",
    "\n",
    "screen = Screen()\n",
    "screen.bgcolor('lightyellow')\n",
    "\n",
    "turtle = Turtle(screen)\n",
    "turtle.speed(0)\n",
    "\n",
    "for j in range(36):\n",
    "    turtle.left(10)\n",
    "    \n",
    "    for i in range(5):\n",
    "        turtle.forward(100)\n",
    "        turtle.left(72)\n",
    "\n",
    "        turtle.forward(100)\n",
    "        turtle.right(144)"
   ]
  }
 ],
 "metadata": {
  "kernelspec": {
   "display_name": "Python 3 (ipykernel)",
   "language": "python",
   "name": "python3"
  },
  "language_info": {
   "codemirror_mode": {
    "name": "ipython",
    "version": 3
   },
   "file_extension": ".py",
   "mimetype": "text/x-python",
   "name": "python",
   "nbconvert_exporter": "python",
   "pygments_lexer": "ipython3",
   "version": "3.11.3"
  },
  "widgets": {
   "application/vnd.jupyter.widget-state+json": {
    "state": {},
    "version_major": 2,
    "version_minor": 0
   }
  }
 },
 "nbformat": 4,
 "nbformat_minor": 5
}
