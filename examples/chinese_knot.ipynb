{
 "cells": [
  {
   "cell_type": "code",
   "execution_count": null,
   "id": "32be2e39-7ffb-44d8-9ad3-380c132881b4",
   "metadata": {},
   "outputs": [],
   "source": [
    "from iturtle import Turtle\n",
    "\n",
    "turtle = Turtle()\n",
    "\n",
    "turtle.pensize(10)\n",
    "turtle.pencolor('red')\n",
    "turtle.right(45)\n",
    "\n",
    "r = 20       # 半径\n",
    "h = r * 6    # 长度\n",
    "\n",
    "turtle.forward(h)\n",
    "turtle.circle(r, 270)\n",
    "turtle.forward(h)\n",
    "turtle.circle(-r, 180)\n",
    "turtle.forward(h)\n",
    "turtle.circle(r, 180)\n",
    "turtle.forward(h)\n",
    "turtle.circle(-r, 270)\n",
    "turtle.forward(h)\n",
    "turtle.circle(r, 180)\n",
    "turtle.forward(h)\n",
    "turtle.circle(-r, 180)\n",
    "\n",
    "turtle.hideturtle()"
   ]
  }
 ],
 "metadata": {
  "kernelspec": {
   "display_name": "Python 3 (ipykernel)",
   "language": "python",
   "name": "python3"
  },
  "language_info": {
   "codemirror_mode": {
    "name": "ipython",
    "version": 3
   },
   "file_extension": ".py",
   "mimetype": "text/x-python",
   "name": "python",
   "nbconvert_exporter": "python",
   "pygments_lexer": "ipython3",
   "version": "3.11.3"
  }
 },
 "nbformat": 4,
 "nbformat_minor": 5
}
