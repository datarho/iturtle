{
 "cells": [
  {
   "cell_type": "code",
   "execution_count": null,
   "id": "20db68b1-8790-4085-80af-bfdbc0ac632f",
   "metadata": {
    "tags": []
   },
   "outputs": [],
   "source": [
    "from iturtle import Screen, Turtle\n",
    "from math import sin,cos,e\n",
    "\n",
    "screen = Screen()\n",
    "screen.bgcolor('lightyellow')\n",
    "\n",
    "def draw():\n",
    "    cycle=25\n",
    "    t=0\n",
    "    while not (t>cycle*360):\n",
    "        p=e**cos(t)-2*cos(4*t)+sin(t/12)**5\n",
    "        x=a*sin(t)*p\n",
    "        y=b*cos(t)*p\n",
    "        turtle.goto(x,y)\n",
    "        turtle.dot()\n",
    "        t+=1\n",
    "        # print(t)\n",
    "\n",
    "turtle = Turtle(screen)\n",
    "turtle.pencolor(\"red\")\n",
    "turtle.pu()\n",
    "turtle.speed(0)\n",
    "\n",
    "a=b=40\n",
    "\n",
    "draw()\n",
    "\n",
    "turtle.ht()"
   ]
  }
 ],
 "metadata": {
  "kernelspec": {
   "display_name": "Python 3 (ipykernel)",
   "language": "python",
   "name": "python3"
  },
  "language_info": {
   "codemirror_mode": {
    "name": "ipython",
    "version": 3
   },
   "file_extension": ".py",
   "mimetype": "text/x-python",
   "name": "python",
   "nbconvert_exporter": "python",
   "pygments_lexer": "ipython3",
   "version": "3.11.3"
  },
  "widgets": {
   "application/vnd.jupyter.widget-state+json": {
    "state": {},
    "version_major": 2,
    "version_minor": 0
   }
  }
 },
 "nbformat": 4,
 "nbformat_minor": 5
}
