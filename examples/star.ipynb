{
 "cells": [
  {
   "cell_type": "markdown",
   "id": "b2ad4acf-eac9-4276-a486-6f0b00fb39b4",
   "metadata": {
    "tags": []
   },
   "source": [
    "Turtle can draw intricate shapes using programs that repeat simple moves:"
   ]
  },
  {
   "cell_type": "code",
   "execution_count": null,
   "id": "ff2efcc9-ef24-4e32-8ad6-286d9f8b5bce",
   "metadata": {},
   "outputs": [],
   "source": [
    "from iturtle import Turtle\n",
    "\n",
    "turtle = Turtle()\n",
    "turtle.speed(10)\n",
    "turtle.pencolor(\"gold\")\n",
    "\n",
    "for i in range(36):\n",
    "    turtle.forward(300)\n",
    "    turtle.left(170)"
   ]
  },
  {
   "cell_type": "code",
   "execution_count": null,
   "id": "f02f66c9-9297-4b7d-a8b6-65e100f66fea",
   "metadata": {},
   "outputs": [],
   "source": []
  }
 ],
 "metadata": {
  "kernelspec": {
   "display_name": "Python 3 (ipykernel)",
   "language": "python",
   "name": "python3"
  },
  "language_info": {
   "codemirror_mode": {
    "name": "ipython",
    "version": 3
   },
   "file_extension": ".py",
   "mimetype": "text/x-python",
   "name": "python",
   "nbconvert_exporter": "python",
   "pygments_lexer": "ipython3",
   "version": "3.11.0"
  },
  "widgets": {
   "application/vnd.jupyter.widget-state+json": {
    "state": {},
    "version_major": 2,
    "version_minor": 0
   }
  }
 },
 "nbformat": 4,
 "nbformat_minor": 5
}
