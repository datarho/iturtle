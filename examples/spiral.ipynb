{
 "cells": [
  {
   "cell_type": "code",
   "execution_count": 1,
   "id": "c80bffed-6fd1-497d-a32d-a57b8e5b3ed7",
   "metadata": {},
   "outputs": [
    {
     "data": {
      "application/vnd.jupyter.widget-view+json": {
       "model_id": "936423fb5178442f9ef04672552b36a8",
       "version_major": 2,
       "version_minor": 0
      },
      "text/plain": [
       "Turtle()"
      ]
     },
     "metadata": {},
     "output_type": "display_data"
    }
   ],
   "source": [
    "from iturtle import Turtle\n",
    "\n",
    "t = Turtle()\n",
    "\n",
    "t.speed(10)\n",
    "t.bgcolor('black')\n",
    "\n",
    "r, g, b = 255, 0, 0\n",
    "\n",
    "for i in range(255):\n",
    "    if i < 255//3:\n",
    "        g += 3\n",
    "    elif i < (255*2)//3:\n",
    "        r -= 3\n",
    "    elif i < 255:\n",
    "        b += 3\n",
    "    elif i < (255*4)//3:\n",
    "        g -= 3\n",
    "    elif i < (255*5)//3:\n",
    "        r += 3\n",
    "    else:\n",
    "        b -= 3\n",
    "        \n",
    "    t.forward(50+i)\n",
    "    t.right(91)\n",
    "    t.pencolor(r, g, b)"
   ]
  },
  {
   "cell_type": "code",
   "execution_count": null,
   "id": "7786f866-0958-4ed2-a345-3c26354e2ae9",
   "metadata": {},
   "outputs": [],
   "source": []
  }
 ],
 "metadata": {
  "kernelspec": {
   "display_name": "Python 3 (ipykernel)",
   "language": "python",
   "name": "python3"
  },
  "language_info": {
   "codemirror_mode": {
    "name": "ipython",
    "version": 3
   },
   "file_extension": ".py",
   "mimetype": "text/x-python",
   "name": "python",
   "nbconvert_exporter": "python",
   "pygments_lexer": "ipython3",
   "version": "3.11.0"
  }
 },
 "nbformat": 4,
 "nbformat_minor": 5
}
