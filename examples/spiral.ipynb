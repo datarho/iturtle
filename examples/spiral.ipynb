{
 "cells": [
  {
   "cell_type": "markdown",
   "id": "93368640-f6eb-41a2-9524-d9259070f030",
   "metadata": {},
   "source": [
    "Draw simple and easy spiral shapes with interactive turtle."
   ]
  },
  {
   "cell_type": "code",
   "execution_count": null,
   "id": "c80bffed-6fd1-497d-a32d-a57b8e5b3ed7",
   "metadata": {},
   "outputs": [],
   "source": [
    "from iturtle import Turtle\n",
    "\n",
    "turtle = Turtle()\n",
    "\n",
    "turtle.speed(10)\n",
    "turtle.bgcolor('black')\n",
    "\n",
    "r, g, b = 255, 0, 0\n",
    "\n",
    "for i in range(255):\n",
    "    if i < 255//3:\n",
    "        g += 3\n",
    "    elif i < (255*2)//3:\n",
    "        r -= 3\n",
    "    elif i < 255:\n",
    "        b += 3\n",
    "    elif i < (255*4)//3:\n",
    "        g -= 3\n",
    "    elif i < (255*5)//3:\n",
    "        r += 3\n",
    "    else:\n",
    "        b -= 3\n",
    "        \n",
    "    turtle.forward(50+i)\n",
    "    turtle.right(91)\n",
    "    turtle.pencolor(r, g, b)"
   ]
  }
 ],
 "metadata": {
  "kernelspec": {
   "display_name": "Python 3 (ipykernel)",
   "language": "python",
   "name": "python3"
  },
  "language_info": {
   "codemirror_mode": {
    "name": "ipython",
    "version": 3
   },
   "file_extension": ".py",
   "mimetype": "text/x-python",
   "name": "python",
   "nbconvert_exporter": "python",
   "pygments_lexer": "ipython3",
   "version": "3.11.0"
  }
 },
 "nbformat": 4,
 "nbformat_minor": 5
}
