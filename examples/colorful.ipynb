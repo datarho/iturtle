{
 "cells": [
  {
   "cell_type": "code",
   "execution_count": null,
   "id": "da8e8672-926b-42a7-a8ce-c1366de417dd",
   "metadata": {},
   "outputs": [],
   "source": [
    "from iturtle import Screen, Turtle\n",
    "\n",
    "screen = Screen()\n",
    "screen.setup(1200, 1200)\n",
    "screen.bgcolor('lightyellow')\n",
    "\n",
    "turtle = Turtle(screen)\n",
    "turtle.speed(0)\n",
    "turtle.pensize(2)\n",
    "list1 = ['red','orange','blue','green','cyan','purple']\n",
    "\n",
    "d = 10\n",
    "for j in range(120): \n",
    "    for i in range(6):\n",
    "        turtle.color(list1[i%6])\n",
    "        turtle.forward(d)\n",
    "        turtle.right(360/6+1)\n",
    "        d += 1"
   ]
  }
 ],
 "metadata": {
  "kernelspec": {
   "display_name": "Python 3 (ipykernel)",
   "language": "python",
   "name": "python3"
  },
  "language_info": {
   "codemirror_mode": {
    "name": "ipython",
    "version": 3
   },
   "file_extension": ".py",
   "mimetype": "text/x-python",
   "name": "python",
   "nbconvert_exporter": "python",
   "pygments_lexer": "ipython3",
   "version": "3.11.3"
  },
  "widgets": {
   "application/vnd.jupyter.widget-state+json": {
    "state": {},
    "version_major": 2,
    "version_minor": 0
   }
  }
 },
 "nbformat": 4,
 "nbformat_minor": 5
}
