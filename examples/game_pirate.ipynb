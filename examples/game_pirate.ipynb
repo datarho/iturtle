{
 "cells": [
  {
   "cell_type": "code",
   "execution_count": null,
   "id": "77ef4465-7b70-463a-9085-9655dbd0fc50",
   "metadata": {},
   "outputs": [],
   "source": [
    "from iturtle import Screen, Turtle\n",
    "from random import randint\n",
    "from time import sleep\n",
    "\n",
    "move = 10\n",
    "\n",
    "screen = Screen()\n",
    "screen.bgpic('./pirate/battleship-game-background-sea.svg')\n",
    "\n",
    "# 🏴‍☠\n",
    "\n",
    "px, py = randint(-7, 7) * 50, randint(-4, 4) * 50\n",
    "print(px, py)\n",
    "pirate = Turtle(screen)\n",
    "pirate.speed(5)\n",
    "pirate.setheading(90)\n",
    "pirate.shape('./pirate/pirate-ship-with-canon.png')\n",
    "pirate.teleport(px, py)\n",
    "# 🎯\n",
    "\n",
    "print(pirate._x, pirate._y)\n",
    "print(pirate.pos())\n",
    "\n",
    "tx, ty = map(int, input().split(','))\n",
    "\n",
    "# 💣\n",
    "\n",
    "bx, by = tx, -250\n",
    "steps = (ty + 250) // move\n",
    "\n",
    "ball = Turtle(screen)\n",
    "ball.shape('./pirate/ignited-cannon-ball.svg')\n",
    "ball.teleport(bx, by)\n",
    "\n",
    "for i in range(steps):\n",
    "    by += move\n",
    "    ball.teleport(bx, by)\n",
    "\n",
    "if ball.pos() == pirate.pos():\n",
    "    ball.play('./pirate/battleship-missile-explosion.mp3')\n",
    "    ball.shape('./pirate/canon-ball-explosion-effect.svg')\n",
    "else:\n",
    "    ball.play('./pirate/battleship-water-drip.mp3')"
   ]
  }
 ],
 "metadata": {
  "kernelspec": {
   "display_name": "Python 3 (ipykernel)",
   "language": "python",
   "name": "python3"
  },
  "language_info": {
   "codemirror_mode": {
    "name": "ipython",
    "version": 3
   },
   "file_extension": ".py",
   "mimetype": "text/x-python",
   "name": "python",
   "nbconvert_exporter": "python",
   "pygments_lexer": "ipython3",
   "version": "3.11.3"
  },
  "widgets": {
   "application/vnd.jupyter.widget-state+json": {
    "state": {},
    "version_major": 2,
    "version_minor": 0
   }
  }
 },
 "nbformat": 4,
 "nbformat_minor": 5
}
