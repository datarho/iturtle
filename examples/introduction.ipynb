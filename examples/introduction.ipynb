{
 "cells": [
  {
   "cell_type": "markdown",
   "metadata": {},
   "source": [
    "# Introduction"
   ]
  },
  {
   "cell_type": "markdown",
   "metadata": {},
   "source": [
    "Interactive Turtle is an implementation of Logo programming language as a Jupyter Widget for Jupyter Lab. Interactive Turtle is a popular way for introducing programming to kids and beginners."
   ]
  },
  {
   "cell_type": "code",
   "execution_count": null,
   "metadata": {
    "tags": []
   },
   "outputs": [],
   "source": [
    "from iturtle import Turtle\n",
    "\n",
    "turtle = Turtle()\n",
    "\n",
    "colors=[\"red\", \"blue\", \"yellow\", \"brown\", \"black\", \"purple\", \"green\"]\n",
    "\n",
    "turtle.speed(1)\n",
    "\n",
    "turtle.penup()\n",
    "turtle.forward(20)\n",
    "turtle.left(90)\n",
    "turtle.forward(140)\n",
    "turtle.right(90)\n",
    "turtle.pendown()\n",
    "\n",
    "for i in range (0,18):\n",
    "    turtle.pencolor(colors[i%7])\n",
    "    turtle.right(20)\n",
    "    turtle.forward(50)\n",
    "    \n",
    "turtle.right(180)\n",
    "turtle.home()"
   ]
  }
 ],
 "metadata": {
  "kernelspec": {
   "display_name": "Python 3 (ipykernel)",
   "language": "python",
   "name": "python3"
  },
  "language_info": {
   "codemirror_mode": {
    "name": "ipython",
    "version": 3
   },
   "file_extension": ".py",
   "mimetype": "text/x-python",
   "name": "python",
   "nbconvert_exporter": "python",
   "pygments_lexer": "ipython3",
   "version": "3.11.0"
  }
 },
 "nbformat": 4,
 "nbformat_minor": 4
}
