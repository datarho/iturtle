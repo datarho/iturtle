{
 "cells": [
  {
   "cell_type": "markdown",
   "metadata": {},
   "source": [
    "# Introduction"
   ]
  },
  {
   "cell_type": "markdown",
   "metadata": {},
   "source": [
    "The React Jupyter Widget keeps your JavaScript and Python state in sync."
   ]
  },
  {
   "cell_type": "code",
   "execution_count": 7,
   "metadata": {},
   "outputs": [
    {
     "data": {
      "application/vnd.jupyter.widget-view+json": {
       "model_id": "d11d2387169848ab8cdc5d69f3f8ab03",
       "version_major": 2,
       "version_minor": 0
      },
      "text/plain": [
       "Turtle(actions=[{'type': <ActionType.MOVE_ABSOLUTE: 'M'>, 'pen': True, 'color': 'black', 'position': (400, 300…"
      ]
     },
     "metadata": {},
     "output_type": "display_data"
    }
   ],
   "source": [
    "from iturtle import Turtle\n",
    "\n",
    "t = Turtle()\n",
    "\n",
    "t.speed(5)\n",
    "\n",
    "# colours=[\"red\",\"blue\",\"yellow\",\"brown\",\"black\",\"purple\",\"green\"]\n",
    "\n",
    "t.penup()\n",
    "t.left(90)\n",
    "t.forward(200)\n",
    "t.right(90)\n",
    "t.pendown()\n",
    "\n",
    "for i in range (0,18):\n",
    "#     # t.pencolor(colours[i%7])\n",
    "    t.right(20)\n",
    "    t.forward(50)\n",
    "\n",
    "t.home()\n",
    "\n",
    "# display(t)"
   ]
  },
  {
   "cell_type": "markdown",
   "metadata": {},
   "source": [
    "Run the cell below and type something new into the text input. "
   ]
  },
  {
   "cell_type": "code",
   "execution_count": null,
   "metadata": {},
   "outputs": [],
   "source": [
    "t.speed(5)"
   ]
  },
  {
   "cell_type": "markdown",
   "metadata": {},
   "source": [
    "The value of the widget will match what you typed into the input."
   ]
  },
  {
   "cell_type": "code",
   "execution_count": null,
   "metadata": {},
   "outputs": [],
   "source": [
    "t.speed"
   ]
  },
  {
   "cell_type": "code",
   "execution_count": 2,
   "metadata": {},
   "outputs": [
    {
     "data": {
      "application/vnd.jupyter.widget-view+json": {
       "model_id": "3ea5a6d16fb84e958f0ded8f4f6fa70b",
       "version_major": 2,
       "version_minor": 0
      },
      "text/plain": [
       "Turtle(actions=[{'type': <ActionType.MOVE_ABSOLUTE: 'M'>, 'pen': True, 'color': 'black', 'position': (400, 300…"
      ]
     },
     "metadata": {},
     "output_type": "display_data"
    }
   ],
   "source": [
    "from iturtle import Turtle\n",
    "\n",
    "t = Turtle()\n",
    "\n",
    "t.speed(1)  \n",
    "t.forward(150)\n",
    "\n",
    "display(t)"
   ]
  },
  {
   "cell_type": "code",
   "execution_count": null,
   "metadata": {},
   "outputs": [],
   "source": []
  }
 ],
 "metadata": {
  "kernelspec": {
   "display_name": "Python 3 (ipykernel)",
   "language": "python",
   "name": "python3"
  },
  "language_info": {
   "codemirror_mode": {
    "name": "ipython",
    "version": 3
   },
   "file_extension": ".py",
   "mimetype": "text/x-python",
   "name": "python",
   "nbconvert_exporter": "python",
   "pygments_lexer": "ipython3",
   "version": "3.11.0"
  },
  "widgets": {
   "application/vnd.jupyter.widget-state+json": {
    "state": {
     "03ea40fd930a42599a1b00e0fc2400a5": {
      "model_module": "iturtle",
      "model_module_version": "^0.1.0",
      "model_name": "TurtleModel",
      "state": {
       "_model_module_version": "^0.1.0",
       "_view_module_version": "^0.1.0",
       "actions": [
        {
         "color": "black",
         "pen": true,
         "position": [
          400,
          300
         ],
         "speed": 1,
         "type": "M"
        },
        {
         "color": "black",
         "pen": true,
         "position": [
          550,
          300
         ],
         "speed": 1,
         "type": "L"
        }
       ],
       "bearing": 0,
       "height": 600,
       "layout": "IPY_MODEL_2e3b45beccbb403bb3195248e440f80a",
       "width": 800,
       "x": 550,
       "y": 300
      }
     },
     "2c05fa8a7fef49a0851cfc13b55d1b87": {
      "model_module": "@jupyter-widgets/base",
      "model_module_version": "2.0.0",
      "model_name": "LayoutModel",
      "state": {}
     },
     "2e3b45beccbb403bb3195248e440f80a": {
      "model_module": "@jupyter-widgets/base",
      "model_module_version": "2.0.0",
      "model_name": "LayoutModel",
      "state": {}
     },
     "3ea5a6d16fb84e958f0ded8f4f6fa70b": {
      "model_module": "iturtle",
      "model_module_version": "^0.1.0",
      "model_name": "TurtleModel",
      "state": {
       "_model_module_version": "^0.1.0",
       "_view_module_version": "^0.1.0",
       "actions": [
        {
         "color": "black",
         "pen": true,
         "position": [
          400,
          300
         ],
         "speed": 1,
         "type": "M"
        },
        {
         "color": "black",
         "pen": true,
         "position": [
          550,
          300
         ],
         "speed": 1,
         "type": "L"
        }
       ],
       "bearing": 0,
       "height": 600,
       "layout": "IPY_MODEL_2c05fa8a7fef49a0851cfc13b55d1b87",
       "width": 800,
       "x": 550,
       "y": 300
      }
     }
    },
    "version_major": 2,
    "version_minor": 0
   }
  }
 },
 "nbformat": 4,
 "nbformat_minor": 4
}
