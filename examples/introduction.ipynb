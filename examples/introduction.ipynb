{
 "cells": [
  {
   "cell_type": "markdown",
   "metadata": {},
   "source": [
    "# Introduction"
   ]
  },
  {
   "cell_type": "markdown",
   "metadata": {},
   "source": [
    "The React Jupyter Widget keeps your JavaScript and Python state in sync."
   ]
  },
  {
   "cell_type": "code",
   "execution_count": null,
   "metadata": {},
   "outputs": [],
   "source": []
  },
  {
   "cell_type": "code",
   "execution_count": null,
   "metadata": {},
   "outputs": [],
   "source": []
  },
  {
   "cell_type": "code",
   "execution_count": null,
   "metadata": {},
   "outputs": [],
   "source": []
  },
  {
   "cell_type": "code",
   "execution_count": null,
   "metadata": {
    "tags": []
   },
   "outputs": [],
   "source": [
    "t = Turtle()"
   ]
  },
  {
   "cell_type": "code",
   "execution_count": null,
   "metadata": {},
   "outputs": [],
   "source": []
  },
  {
   "cell_type": "code",
   "execution_count": null,
   "metadata": {},
   "outputs": [],
   "source": []
  },
  {
   "cell_type": "code",
   "execution_count": 28,
   "metadata": {},
   "outputs": [
    {
     "data": {
      "application/vnd.jupyter.widget-view+json": {
       "model_id": "b9d5e8943f3f47a693a9cfa3186f45b0",
       "version_major": 2,
       "version_minor": 0
      },
      "text/plain": [
       "Turtle(actions=[{'type': <ActionType.MOVE_ABSOLUTE: 'M'>, 'pen': True, 'color': 'black', 'distance': 0, 'posit…"
      ]
     },
     "metadata": {},
     "output_type": "display_data"
    }
   ],
   "source": [
    "from iturtle import Turtle\n",
    "\n",
    "t = Turtle()\n",
    "\n",
    "display(t)\n",
    "\n",
    "colors=[\"red\", \"blue\", \"yellow\", \"brown\", \"black\", \"purple\", \"green\"]\n",
    "\n",
    "t.speed(1)\n",
    "t.penup()\n",
    "t.left(90)\n",
    "t.forward(200)\n",
    "t.right(90)\n",
    "t.pendown()\n",
    "\n",
    "t.bgcolor('black')\n",
    "\n",
    "for i in range (0,18):\n",
    "    t.pencolor(colors[i%7])\n",
    "    t.right(20)\n",
    "    t.forward(50)\n",
    "\n",
    "\n",
    "    \n",
    "t.right(180)\n",
    "t.home()\n",
    "\n",
    "\n"
   ]
  },
  {
   "cell_type": "markdown",
   "metadata": {},
   "source": [
    "Run the cell below and type something new into the text input. "
   ]
  },
  {
   "cell_type": "code",
   "execution_count": null,
   "metadata": {},
   "outputs": [],
   "source": [
    "t.forward(200)"
   ]
  },
  {
   "cell_type": "markdown",
   "metadata": {},
   "source": [
    "# Spiral\n",
    "\n",
    "A simple and beautiful spiral with turtle module in Python"
   ]
  },
  {
   "cell_type": "code",
   "execution_count": null,
   "metadata": {},
   "outputs": [],
   "source": [
    "from iturtle import Turtle\n",
    "\n",
    "t = Turtle()\n",
    "\n",
    "display(t)\n",
    "\n",
    "t.speed(10)\n",
    "t.bgcolor('black')\n",
    "\n",
    "r, g, b = 255, 0, 0\n",
    "\n",
    "for i in range(255):\n",
    "    if i < 255//3:\n",
    "        g += 3\n",
    "    elif i < (255*2)//3:\n",
    "        r -= 3\n",
    "    elif i < 255:\n",
    "        b += 3\n",
    "    elif i < (255*4)//3:\n",
    "        g -= 3\n",
    "    elif i < (255*5)//3:\n",
    "        r += 3\n",
    "    else:\n",
    "        b -= 3\n",
    "        \n",
    "    t.forward(50+i)\n",
    "    t.right(91)\n",
    "    t.pencolor(r, g, b)"
   ]
  },
  {
   "cell_type": "code",
   "execution_count": null,
   "metadata": {},
   "outputs": [],
   "source": []
  }
 ],
 "metadata": {
  "kernelspec": {
   "display_name": "Python 3 (ipykernel)",
   "language": "python",
   "name": "python3"
  },
  "language_info": {
   "codemirror_mode": {
    "name": "ipython",
    "version": 3
   },
   "file_extension": ".py",
   "mimetype": "text/x-python",
   "name": "python",
   "nbconvert_exporter": "python",
   "pygments_lexer": "ipython3",
   "version": "3.11.0"
  }
 },
 "nbformat": 4,
 "nbformat_minor": 4
}
