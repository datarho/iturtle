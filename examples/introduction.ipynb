{
 "cells": [
  {
   "cell_type": "markdown",
   "metadata": {},
   "source": [
    "# Introduction"
   ]
  },
  {
   "cell_type": "markdown",
   "metadata": {},
   "source": [
    "The React Jupyter Widget keeps your JavaScript and Python state in sync."
   ]
  },
  {
   "cell_type": "code",
   "execution_count": 3,
   "metadata": {},
   "outputs": [
    {
     "data": {
      "application/vnd.jupyter.widget-view+json": {
       "model_id": "511e93724db3430784d32463f29b4958",
       "version_major": 2,
       "version_minor": 0
      },
      "text/plain": [
       "Turtle(actions=[{'type': <ActionType.MOVE_ABSOLUTE: 'M'>, 'pen': True, 'color': 'black', 'distance': 0, 'posit…"
      ]
     },
     "metadata": {},
     "output_type": "display_data"
    }
   ],
   "source": [
    "from iturtle import Turtle\n",
    "\n",
    "t = Turtle()\n",
    "\n",
    "display(t)\n",
    "\n",
    "# colours=[\"red\",\"blue\",\"yellow\",\"brown\",\"black\",\"purple\",\"green\"]\n",
    "\n",
    "t.speed(1)\n",
    "t.penup()\n",
    "t.left(90)\n",
    "t.forward(200)\n",
    "t.right(90)\n",
    "t.pendown()\n",
    "\n",
    "for i in range (0,18):\n",
    "#     # t.pencolor(colours[i%7])\n",
    "    t.right(20)\n",
    "    t.forward(50)\n",
    "\n",
    "t.home()"
   ]
  },
  {
   "cell_type": "markdown",
   "metadata": {},
   "source": [
    "Run the cell below and type something new into the text input. "
   ]
  },
  {
   "cell_type": "code",
   "execution_count": null,
   "metadata": {},
   "outputs": [],
   "source": [
    "t.speed(5)"
   ]
  },
  {
   "cell_type": "markdown",
   "metadata": {},
   "source": [
    "The value of the widget will match what you typed into the input."
   ]
  },
  {
   "cell_type": "code",
   "execution_count": null,
   "metadata": {},
   "outputs": [],
   "source": [
    "t.speed"
   ]
  },
  {
   "cell_type": "code",
   "execution_count": null,
   "metadata": {},
   "outputs": [],
   "source": [
    "from iturtle import Turtle\n",
    "\n",
    "t = Turtle()\n",
    "\n",
    "t.speed(1)\n",
    "t.forward(150)\n",
    "\n",
    "display(t)"
   ]
  },
  {
   "cell_type": "code",
   "execution_count": null,
   "metadata": {},
   "outputs": [],
   "source": [
    "speed = 10\n",
    "distance = 100\n",
    "int(distance / (3 * 1.1**speed * speed))"
   ]
  }
 ],
 "metadata": {
  "kernelspec": {
   "display_name": "Python 3 (ipykernel)",
   "language": "python",
   "name": "python3"
  },
  "language_info": {
   "codemirror_mode": {
    "name": "ipython",
    "version": 3
   },
   "file_extension": ".py",
   "mimetype": "text/x-python",
   "name": "python",
   "nbconvert_exporter": "python",
   "pygments_lexer": "ipython3",
   "version": "3.11.0"
  },
  "widgets": {
   "application/vnd.jupyter.widget-state+json": {
    "state": {
     "511e93724db3430784d32463f29b4958": {
      "model_module": "iturtle",
      "model_module_version": "^0.1.0",
      "model_name": "TurtleModel",
      "state": {
       "_model_module_version": "^0.1.0",
       "_view_module_version": "^0.1.0",
       "actions": [
        {
         "color": "black",
         "distance": 0,
         "pen": true,
         "position": [
          400,
          300
         ],
         "type": "M",
         "velocity": 6
        },
        {
         "color": "black",
         "distance": 200,
         "pen": false,
         "position": [
          400,
          100
         ],
         "type": "M",
         "velocity": 1
        },
        {
         "color": "black",
         "distance": 50,
         "pen": true,
         "position": [
          447,
          117
         ],
         "type": "L",
         "velocity": 1
        },
        {
         "color": "black",
         "distance": 50,
         "pen": true,
         "position": [
          485,
          149
         ],
         "type": "L",
         "velocity": 1
        },
        {
         "color": "black",
         "distance": 50,
         "pen": true,
         "position": [
          510,
          192
         ],
         "type": "L",
         "velocity": 1
        },
        {
         "color": "black",
         "distance": 50,
         "pen": true,
         "position": [
          519,
          241
         ],
         "type": "L",
         "velocity": 1
        },
        {
         "color": "black",
         "distance": 50,
         "pen": true,
         "position": [
          510,
          290
         ],
         "type": "L",
         "velocity": 1
        },
        {
         "color": "black",
         "distance": 50,
         "pen": true,
         "position": [
          485,
          333
         ],
         "type": "L",
         "velocity": 1
        },
        {
         "color": "black",
         "distance": 50,
         "pen": true,
         "position": [
          447,
          365
         ],
         "type": "L",
         "velocity": 1
        },
        {
         "color": "black",
         "distance": 50,
         "pen": true,
         "position": [
          400,
          382
         ],
         "type": "L",
         "velocity": 1
        },
        {
         "color": "black",
         "distance": 50,
         "pen": true,
         "position": [
          350,
          382
         ],
         "type": "L",
         "velocity": 1
        },
        {
         "color": "black",
         "distance": 50,
         "pen": true,
         "position": [
          303,
          365
         ],
         "type": "L",
         "velocity": 1
        },
        {
         "color": "black",
         "distance": 50,
         "pen": true,
         "position": [
          265,
          333
         ],
         "type": "L",
         "velocity": 1
        },
        {
         "color": "black",
         "distance": 50,
         "pen": true,
         "position": [
          240,
          290
         ],
         "type": "L",
         "velocity": 1
        },
        {
         "color": "black",
         "distance": 50,
         "pen": true,
         "position": [
          231,
          241
         ],
         "type": "L",
         "velocity": 1
        },
        {
         "color": "black",
         "distance": 50,
         "pen": true,
         "position": [
          240,
          192
         ],
         "type": "L",
         "velocity": 1
        },
        {
         "color": "black",
         "distance": 50,
         "pen": true,
         "position": [
          265,
          149
         ],
         "type": "L",
         "velocity": 1
        },
        {
         "color": "black",
         "distance": 50,
         "pen": true,
         "position": [
          303,
          117
         ],
         "type": "L",
         "velocity": 1
        },
        {
         "color": "black",
         "distance": 50,
         "pen": true,
         "position": [
          350,
          100
         ],
         "type": "L",
         "velocity": 1
        },
        {
         "color": "black",
         "distance": 50,
         "pen": true,
         "position": [
          400,
          100
         ],
         "type": "L",
         "velocity": 1
        },
        {
         "color": "black",
         "distance": 0,
         "pen": true,
         "position": [
          400,
          300
         ],
         "type": "M",
         "velocity": 1
        }
       ],
       "bearing": 0,
       "distance": 0,
       "height": 600,
       "layout": "IPY_MODEL_8eca3c797360411cad973ce56f44f5f9",
       "velocity": 1,
       "width": 800,
       "x": 400,
       "y": 300
      }
     },
     "8367c08e03bd4ce28414d59c411957f9": {
      "model_module": "iturtle",
      "model_module_version": "^0.1.0",
      "model_name": "TurtleModel",
      "state": {
       "_model_module_version": "^0.1.0",
       "_view_module_version": "^0.1.0",
       "actions": [
        {
         "color": "black",
         "distance": 0,
         "pen": true,
         "position": [
          400,
          300
         ],
         "type": "M",
         "velocity": 6
        },
        {
         "color": "black",
         "distance": 200,
         "pen": false,
         "position": [
          400,
          100
         ],
         "type": "M",
         "velocity": 1
        },
        {
         "color": "black",
         "distance": 50,
         "pen": true,
         "position": [
          447,
          117
         ],
         "type": "L",
         "velocity": 1
        },
        {
         "color": "black",
         "distance": 50,
         "pen": true,
         "position": [
          485,
          149
         ],
         "type": "L",
         "velocity": 1
        },
        {
         "color": "black",
         "distance": 50,
         "pen": true,
         "position": [
          510,
          192
         ],
         "type": "L",
         "velocity": 1
        },
        {
         "color": "black",
         "distance": 50,
         "pen": true,
         "position": [
          519,
          241
         ],
         "type": "L",
         "velocity": 1
        },
        {
         "color": "black",
         "distance": 50,
         "pen": true,
         "position": [
          510,
          290
         ],
         "type": "L",
         "velocity": 1
        },
        {
         "color": "black",
         "distance": 50,
         "pen": true,
         "position": [
          485,
          333
         ],
         "type": "L",
         "velocity": 1
        },
        {
         "color": "black",
         "distance": 50,
         "pen": true,
         "position": [
          447,
          365
         ],
         "type": "L",
         "velocity": 1
        },
        {
         "color": "black",
         "distance": 50,
         "pen": true,
         "position": [
          400,
          382
         ],
         "type": "L",
         "velocity": 1
        },
        {
         "color": "black",
         "distance": 50,
         "pen": true,
         "position": [
          350,
          382
         ],
         "type": "L",
         "velocity": 1
        },
        {
         "color": "black",
         "distance": 50,
         "pen": true,
         "position": [
          303,
          365
         ],
         "type": "L",
         "velocity": 1
        },
        {
         "color": "black",
         "distance": 50,
         "pen": true,
         "position": [
          265,
          333
         ],
         "type": "L",
         "velocity": 1
        },
        {
         "color": "black",
         "distance": 50,
         "pen": true,
         "position": [
          240,
          290
         ],
         "type": "L",
         "velocity": 1
        },
        {
         "color": "black",
         "distance": 50,
         "pen": true,
         "position": [
          231,
          241
         ],
         "type": "L",
         "velocity": 1
        },
        {
         "color": "black",
         "distance": 50,
         "pen": true,
         "position": [
          240,
          192
         ],
         "type": "L",
         "velocity": 1
        },
        {
         "color": "black",
         "distance": 50,
         "pen": true,
         "position": [
          265,
          149
         ],
         "type": "L",
         "velocity": 1
        },
        {
         "color": "black",
         "distance": 50,
         "pen": true,
         "position": [
          303,
          117
         ],
         "type": "L",
         "velocity": 1
        },
        {
         "color": "black",
         "distance": 50,
         "pen": true,
         "position": [
          350,
          100
         ],
         "type": "L",
         "velocity": 1
        },
        {
         "color": "black",
         "distance": 50,
         "pen": true,
         "position": [
          400,
          100
         ],
         "type": "L",
         "velocity": 1
        },
        {
         "color": "black",
         "distance": 0,
         "pen": true,
         "position": [
          400,
          300
         ],
         "type": "M",
         "velocity": 1
        }
       ],
       "bearing": 0,
       "distance": 0,
       "height": 600,
       "layout": "IPY_MODEL_99a13a996891438b80f189ba8cfa145a",
       "velocity": 1,
       "width": 800,
       "x": 400,
       "y": 300
      }
     },
     "8eca3c797360411cad973ce56f44f5f9": {
      "model_module": "@jupyter-widgets/base",
      "model_module_version": "2.0.0",
      "model_name": "LayoutModel",
      "state": {}
     },
     "99a13a996891438b80f189ba8cfa145a": {
      "model_module": "@jupyter-widgets/base",
      "model_module_version": "2.0.0",
      "model_name": "LayoutModel",
      "state": {}
     },
     "d31177b03fb44978b38abe02557329c7": {
      "model_module": "iturtle",
      "model_module_version": "^0.1.0",
      "model_name": "TurtleModel",
      "state": {
       "_model_module_version": "^0.1.0",
       "_view_module_version": "^0.1.0",
       "actions": [
        {
         "color": "black",
         "distance": 0,
         "pen": true,
         "position": [
          400,
          300
         ],
         "type": "M",
         "velocity": 6
        },
        {
         "color": "black",
         "distance": 200,
         "pen": false,
         "position": [
          400,
          100
         ],
         "type": "M",
         "velocity": 1
        },
        {
         "color": "black",
         "distance": 50,
         "pen": true,
         "position": [
          447,
          117
         ],
         "type": "L",
         "velocity": 1
        },
        {
         "color": "black",
         "distance": 50,
         "pen": true,
         "position": [
          485,
          149
         ],
         "type": "L",
         "velocity": 1
        },
        {
         "color": "black",
         "distance": 50,
         "pen": true,
         "position": [
          510,
          192
         ],
         "type": "L",
         "velocity": 1
        },
        {
         "color": "black",
         "distance": 50,
         "pen": true,
         "position": [
          519,
          241
         ],
         "type": "L",
         "velocity": 1
        },
        {
         "color": "black",
         "distance": 50,
         "pen": true,
         "position": [
          510,
          290
         ],
         "type": "L",
         "velocity": 1
        },
        {
         "color": "black",
         "distance": 50,
         "pen": true,
         "position": [
          485,
          333
         ],
         "type": "L",
         "velocity": 1
        },
        {
         "color": "black",
         "distance": 50,
         "pen": true,
         "position": [
          447,
          365
         ],
         "type": "L",
         "velocity": 1
        },
        {
         "color": "black",
         "distance": 50,
         "pen": true,
         "position": [
          400,
          382
         ],
         "type": "L",
         "velocity": 1
        },
        {
         "color": "black",
         "distance": 50,
         "pen": true,
         "position": [
          350,
          382
         ],
         "type": "L",
         "velocity": 1
        },
        {
         "color": "black",
         "distance": 50,
         "pen": true,
         "position": [
          303,
          365
         ],
         "type": "L",
         "velocity": 1
        },
        {
         "color": "black",
         "distance": 50,
         "pen": true,
         "position": [
          265,
          333
         ],
         "type": "L",
         "velocity": 1
        },
        {
         "color": "black",
         "distance": 50,
         "pen": true,
         "position": [
          240,
          290
         ],
         "type": "L",
         "velocity": 1
        },
        {
         "color": "black",
         "distance": 50,
         "pen": true,
         "position": [
          231,
          241
         ],
         "type": "L",
         "velocity": 1
        },
        {
         "color": "black",
         "distance": 50,
         "pen": true,
         "position": [
          240,
          192
         ],
         "type": "L",
         "velocity": 1
        },
        {
         "color": "black",
         "distance": 50,
         "pen": true,
         "position": [
          265,
          149
         ],
         "type": "L",
         "velocity": 1
        },
        {
         "color": "black",
         "distance": 50,
         "pen": true,
         "position": [
          303,
          117
         ],
         "type": "L",
         "velocity": 1
        },
        {
         "color": "black",
         "distance": 50,
         "pen": true,
         "position": [
          350,
          100
         ],
         "type": "L",
         "velocity": 1
        },
        {
         "color": "black",
         "distance": 50,
         "pen": true,
         "position": [
          400,
          100
         ],
         "type": "L",
         "velocity": 1
        },
        {
         "color": "black",
         "distance": 0,
         "pen": true,
         "position": [
          400,
          300
         ],
         "type": "M",
         "velocity": 1
        }
       ],
       "bearing": 0,
       "distance": 0,
       "height": 600,
       "layout": "IPY_MODEL_e9328824ad6b4a80ad38625f23855053",
       "velocity": 1,
       "width": 800,
       "x": 400,
       "y": 300
      }
     },
     "e9328824ad6b4a80ad38625f23855053": {
      "model_module": "@jupyter-widgets/base",
      "model_module_version": "2.0.0",
      "model_name": "LayoutModel",
      "state": {}
     }
    },
    "version_major": 2,
    "version_minor": 0
   }
  }
 },
 "nbformat": 4,
 "nbformat_minor": 4
}
