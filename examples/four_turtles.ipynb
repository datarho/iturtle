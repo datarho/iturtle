{
 "cells": [
  {
   "cell_type": "code",
   "execution_count": null,
   "id": "3f0d1f97-69a5-457b-abfb-2abf2ae47a63",
   "metadata": {},
   "outputs": [],
   "source": [
    "import time\n",
    "\n",
    "from iturtle import Screen, Turtle\n",
    "\n",
    "screen = Screen()\n",
    "\n",
    "leo = Turtle(screen)\n",
    "donnie = Turtle(screen)\n",
    "mikey = Turtle(screen)\n",
    "raph = Turtle(screen)\n",
    "\n",
    "leo.teleport(200, 200)\n",
    "donnie.teleport(-200, 200)\n",
    "mikey.teleport(-200, -200)\n",
    "raph.teleport(200, -200)\n",
    "\n",
    "leo.speed(3)\n",
    "donnie.speed(3)\n",
    "mikey.speed(3)\n",
    "raph.speed(3)\n",
    "\n",
    "step = 40\n",
    "loop = 10\n",
    "\n",
    "for i in range(loop):\n",
    "    leo.setheading(leo.towards(donnie.pos()))\n",
    "    donnie.setheading(donnie.towards(mikey.pos()))\n",
    "    mikey.setheading(mikey.towards(raph.pos()))\n",
    "    raph.setheading(raph.towards(leo.pos()))\n",
    "\n",
    "    leo.forward(step)\n",
    "    donnie.forward(step)\n",
    "    mikey.forward(step)\n",
    "    raph.forward(step)\n",
    "\n",
    "leo.hideturtle()\n",
    "donnie.hideturtle()\n",
    "mikey.hideturtle()\n",
    "raph.hideturtle()\n"
   ]
  }
 ],
 "metadata": {
  "kernelspec": {
   "display_name": "Python 3 (ipykernel)",
   "language": "python",
   "name": "python3"
  },
  "language_info": {
   "codemirror_mode": {
    "name": "ipython",
    "version": 3
   },
   "file_extension": ".py",
   "mimetype": "text/x-python",
   "name": "python",
   "nbconvert_exporter": "python",
   "pygments_lexer": "ipython3",
   "version": "3.11.3"
  },
  "widgets": {
   "application/vnd.jupyter.widget-state+json": {
    "state": {
     "b32af3d14ff846048e6f5bed571fabd1": {
      "model_module": "@jupyter-widgets/base",
      "model_module_version": "2.0.0",
      "model_name": "LayoutModel",
      "state": {}
     },
     "fe92630676af45e7a264bf155758f699": {
      "model_module": "iturtle",
      "model_module_version": "^0.1.0",
      "model_name": "TurtleModel",
      "state": {
       "_model_module_version": "^0.1.0",
       "_view_module_version": "^0.1.0",
       "background": "white",
       "bgUrl": "",
       "delay": 2,
       "height": 500,
       "id": "e4fcaf58-841b-4aff-b903-e1a4c17fa3cb",
       "key": "",
       "layout": "IPY_MODEL_b32af3d14ff846048e6f5bed571fabd1",
       "resource": {},
       "width": 800
      }
     }
    },
    "version_major": 2,
    "version_minor": 0
   }
  }
 },
 "nbformat": 4,
 "nbformat_minor": 5
}
