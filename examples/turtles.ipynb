{
 "cells": [
  {
   "cell_type": "markdown",
   "id": "f49ac297-6afb-46bc-8832-546654195a5a",
   "metadata": {},
   "source": [
    "As an old Chinese saying goes, you cannot create a master piece with the right hand drawing a circle and the left hand drawing a square.\n",
    "\n",
    "However, two turtles can solve the problem ;-)"
   ]
  },
  {
   "cell_type": "code",
   "execution_count": 2,
   "id": "9cd972f8-15d0-440c-93fb-762ce45558c0",
   "metadata": {
    "tags": []
   },
   "outputs": [
    {
     "data": {
      "application/vnd.jupyter.widget-view+json": {
       "model_id": "869e41a1ee6944709097d587da754b99",
       "version_major": 2,
       "version_minor": 0
      },
      "text/plain": [
       "Screen()"
      ]
     },
     "metadata": {},
     "output_type": "display_data"
    }
   ],
   "source": [
    "from iturtle import Screen, Turtle\n",
    "\n",
    "screen = Screen()\n",
    "left = Turtle(screen)\n",
    "right = Turtle(screen)\n",
    "\n",
    "left.right(180)\n",
    "right.left(90)\n",
    "\n",
    "for i in range(12):\n",
    "    if i % 4 == 0:\n",
    "        left.forward(100)\n",
    "        left.right(120)\n",
    "        left.play('https://www.joshwcomeau.com/sounds/enable-sound.mp3')\n",
    "        \n",
    "    if i % 3 == 0:\n",
    "        right.forward(100)\n",
    "        right.right(90)\n",
    "        right.play('https://www.joshwcomeau.com/sounds/disable-sound.mp3')"
   ]
  },
  {
   "cell_type": "code",
   "execution_count": null,
   "id": "f15b54e4-9b0c-4030-9702-86fee422a804",
   "metadata": {},
   "outputs": [],
   "source": []
  },
  {
   "cell_type": "code",
   "execution_count": null,
   "id": "3e6c0e6b-070f-48aa-bc39-eda27733142e",
   "metadata": {},
   "outputs": [],
   "source": []
  }
 ],
 "metadata": {
  "kernelspec": {
   "display_name": "Python 3 (ipykernel)",
   "language": "python",
   "name": "python3"
  },
  "language_info": {
   "codemirror_mode": {
    "name": "ipython",
    "version": 3
   },
   "file_extension": ".py",
   "mimetype": "text/x-python",
   "name": "python",
   "nbconvert_exporter": "python",
   "pygments_lexer": "ipython3",
   "version": "3.8.18"
  },
  "widgets": {
   "application/vnd.jupyter.widget-state+json": {
    "state": {},
    "version_major": 2,
    "version_minor": 0
   }
  }
 },
 "nbformat": 4,
 "nbformat_minor": 5
}
