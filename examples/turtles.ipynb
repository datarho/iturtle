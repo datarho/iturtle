{
 "cells": [
  {
   "cell_type": "markdown",
   "id": "f49ac297-6afb-46bc-8832-546654195a5a",
   "metadata": {},
   "source": [
    "As an old Chinese saying goes, you cannot create a master piece with the right hand drawing a circle and the left hand drawing a square.\n",
    "\n",
    "However, two turtles can solve the problem ;-)"
   ]
  },
  {
   "cell_type": "code",
   "execution_count": 4,
   "id": "9cd972f8-15d0-440c-93fb-762ce45558c0",
   "metadata": {
    "tags": []
   },
   "outputs": [
    {
     "data": {
      "application/vnd.jupyter.widget-view+json": {
       "model_id": "ca7dcb8abc734440bb353f7b17678186",
       "version_major": 2,
       "version_minor": 0
      },
      "text/plain": [
       "Screen()"
      ]
     },
     "metadata": {},
     "output_type": "display_data"
    }
   ],
   "source": [
    "from iturtle import Screen, Turtle\n",
    "import threading\n",
    "\n",
    "def left_fun():\n",
    "    left = Turtle(screen)\n",
    "    left.speed(8) \n",
    "    left.right(180)\n",
    "    for i in range(90):\n",
    "        left.forward(120)\n",
    "        left.right(120)\n",
    "        if i % 3 == 0:\n",
    "            left.play('https://www.joshwcomeau.com/sounds/enable-sound.mp3')\n",
    "\n",
    "def right_fun():\n",
    "    right = Turtle(screen)\n",
    "    right.speed(8) \n",
    "    right.left(90)\n",
    "    for i in range(120):\n",
    "        right.forward(45)\n",
    "        right.right(45)\n",
    "        if i % 4 == 0:\n",
    "            right.play('https://www.joshwcomeau.com/sounds/disable-sound.mp3')\n",
    "    \n",
    "screen = Screen()\n",
    "thread_left = threading.Thread(target=left_fun)\n",
    "thread_right = threading.Thread(target=right_fun)\n",
    "thread_left.start()\n",
    "thread_right.start()\n",
    "thread_left.join()\n",
    "thread_right.join()"
   ]
  },
  {
   "cell_type": "code",
   "execution_count": null,
   "id": "f15b54e4-9b0c-4030-9702-86fee422a804",
   "metadata": {},
   "outputs": [],
   "source": []
  },
  {
   "cell_type": "code",
   "execution_count": null,
   "id": "3e6c0e6b-070f-48aa-bc39-eda27733142e",
   "metadata": {},
   "outputs": [],
   "source": []
  }
 ],
 "metadata": {
  "kernelspec": {
   "display_name": "Python 3 (ipykernel)",
   "language": "python",
   "name": "python3"
  },
  "language_info": {
   "codemirror_mode": {
    "name": "ipython",
    "version": 3
   },
   "file_extension": ".py",
   "mimetype": "text/x-python",
   "name": "python",
   "nbconvert_exporter": "python",
   "pygments_lexer": "ipython3",
   "version": "3.8.18"
  },
  "widgets": {
   "application/vnd.jupyter.widget-state+json": {
    "state": {},
    "version_major": 2,
    "version_minor": 0
   }
  }
 },
 "nbformat": 4,
 "nbformat_minor": 5
}
