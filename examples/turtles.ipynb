{
 "cells": [
  {
   "cell_type": "markdown",
   "id": "f49ac297-6afb-46bc-8832-546654195a5a",
   "metadata": {},
   "source": [
    "As an old Chinese saying goes, you cannot create a master piece with the right hand drawing a circle and the left hand drawing a square.\n",
    "\n",
    "However, we can create two turtles to draw each shapes ;-)"
   ]
  },
  {
   "cell_type": "code",
   "execution_count": null,
   "id": "9cd972f8-15d0-440c-93fb-762ce45558c0",
   "metadata": {
    "tags": []
   },
   "outputs": [],
   "source": [
    "from iturtle import Screen, Turtle\n",
    "\n",
    "screen = Screen()\n",
    "left = Turtle(screen)\n",
    "right = Turtle(screen)\n",
    "\n",
    "left.right(180)\n",
    "for i in range(3):\n",
    "    left.forward(100)\n",
    "    left.right(120)\n",
    "\n",
    "right.left(90)\n",
    "for i in range(4):\n",
    "    right.forward(100)\n",
    "    right.right(90)"
   ]
  },
  {
   "cell_type": "code",
   "execution_count": null,
   "id": "f15b54e4-9b0c-4030-9702-86fee422a804",
   "metadata": {},
   "outputs": [],
   "source": []
  }
 ],
 "metadata": {
  "kernelspec": {
   "display_name": "Python 3 (ipykernel)",
   "language": "python",
   "name": "python3"
  },
  "language_info": {
   "codemirror_mode": {
    "name": "ipython",
    "version": 3
   },
   "file_extension": ".py",
   "mimetype": "text/x-python",
   "name": "python",
   "nbconvert_exporter": "python",
   "pygments_lexer": "ipython3",
   "version": "3.8.18"
  }
 },
 "nbformat": 4,
 "nbformat_minor": 5
}
