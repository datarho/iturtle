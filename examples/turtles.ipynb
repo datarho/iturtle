{
 "cells": [
  {
   "cell_type": "markdown",
   "id": "f49ac297-6afb-46bc-8832-546654195a5a",
   "metadata": {},
   "source": [
    "As an old Chinese saying goes, you cannot create a master piece with the right hand drawing a circle and the left hand drawing a square.\n",
    "\n",
    "However, two turtles can solve the problem ;-)"
   ]
  },
  {
   "cell_type": "code",
   "execution_count": 1,
   "id": "9cd972f8-15d0-440c-93fb-762ce45558c0",
   "metadata": {
    "tags": []
   },
   "outputs": [
    {
     "data": {
      "application/vnd.jupyter.widget-view+json": {
       "model_id": "ccdc73d1174c4a15a9fea03104e023f0",
       "version_major": 2,
       "version_minor": 0
      },
      "text/plain": [
       "Screen()"
      ]
     },
     "metadata": {},
     "output_type": "display_data"
    }
   ],
   "source": [
    "from iturtle import Screen, Turtle\n",
    "\n",
    "screen = Screen()\n",
    "left = Turtle(screen)\n",
    "left.speed(10)\n",
    "right = Turtle(screen)\n",
    "left.speed(10)\n",
    "\n",
    "left.right(180)\n",
    "right.left(90)\n",
    "\n",
    "for i in range(12):\n",
    "    left.forward(100)\n",
    "    left.right(120)\n",
    "    right.forward(100)\n",
    "    right.right(90)"
   ]
  },
  {
   "cell_type": "code",
   "execution_count": null,
   "id": "f15b54e4-9b0c-4030-9702-86fee422a804",
   "metadata": {},
   "outputs": [],
   "source": []
  }
 ],
 "metadata": {
  "kernelspec": {
   "display_name": "Python 3 (ipykernel)",
   "language": "python",
   "name": "python3"
  },
  "language_info": {
   "codemirror_mode": {
    "name": "ipython",
    "version": 3
   },
   "file_extension": ".py",
   "mimetype": "text/x-python",
   "name": "python",
   "nbconvert_exporter": "python",
   "pygments_lexer": "ipython3",
   "version": "3.11.0"
  },
  "widgets": {
   "application/vnd.jupyter.widget-state+json": {
    "state": {
     "1dcdc847a10049b7a4d33eb90c6ba586": {
      "model_module": "@jupyter-widgets/base",
      "model_module_version": "2.0.0",
      "model_name": "LayoutModel",
      "state": {}
     },
     "ccdc73d1174c4a15a9fea03104e023f0": {
      "model_module": "iturtle",
      "model_module_version": "^0.1.0",
      "model_name": "TurtleModel",
      "state": {
       "_model_module_version": "^0.1.0",
       "_view_module_version": "^0.1.0",
       "action": {
        "clockwise": 1,
        "color": "black",
        "distance": 100,
        "id": "140228876307664",
        "pen": true,
        "position": [
         400,
         250
        ],
        "radius": 0,
        "size": 1,
        "type": "L",
        "velocity": 10
       },
       "background": "white",
       "bearing": 0,
       "height": 500,
       "id": 140228902361040,
       "layout": "IPY_MODEL_1dcdc847a10049b7a4d33eb90c6ba586",
       "show": true,
       "turtles": {
        "140228876307664": {
         "bearing": 990,
         "show": true,
         "x": 400,
         "y": 250
        },
        "140228902213968": {
         "bearing": 1620,
         "show": true,
         "x": 400.0000000000003,
         "y": 250.00000000000006
        }
       },
       "width": 800
      }
     }
    },
    "version_major": 2,
    "version_minor": 0
   }
  }
 },
 "nbformat": 4,
 "nbformat_minor": 5
}
